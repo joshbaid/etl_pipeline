{
 "cells": [
  {
   "cell_type": "code",
   "execution_count": null,
   "metadata": {
    "vscode": {
     "languageId": "plaintext"
    }
   },
   "outputs": [],
   "source": [
    "import pandas as pd\n",
    "\n",
    "# Load the raw data\n",
    "df = pd.read_csv(\"data/raw_data/ecommerce_data.csv\")\n",
    "\n",
    "# Data cleaning: Remove rows with missing values\n",
    "df.dropna(inplace=True)\n",
    "\n",
    "# Feature engineering: Add a new column for total price (quantity * price)\n",
    "df['total_price'] = df['quantity'] * df['price']\n",
    "\n",
    "# Feature engineering: Convert timestamps to datetime objects\n",
    "df['order_date'] = pd.to_datetime(df['order_date'])\n",
    "\n",
    "# Save the cleaned and transformed data\n",
    "df.to_csv('data/processed_data/ecommerce_transformed.csv', index=False)\n"
   ]
  }
 ],
 "metadata": {
  "language_info": {
   "name": "python"
  }
 },
 "nbformat": 4,
 "nbformat_minor": 2
}
